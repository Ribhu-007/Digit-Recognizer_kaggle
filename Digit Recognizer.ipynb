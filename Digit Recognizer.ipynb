{
 "cells": [
  {
   "cell_type": "code",
   "execution_count": 2,
   "id": "8b4d79fd-01fc-4fcd-8fe7-866cb5e8a156",
   "metadata": {},
   "outputs": [],
   "source": [
    "import numpy as np\n",
    "import pandas as pd\n",
    "from matplotlib import pyplot as plt"
   ]
  },
  {
   "cell_type": "code",
   "execution_count": 3,
   "id": "082fd275-5eff-4144-b641-c06c0073526e",
   "metadata": {
    "scrolled": true
   },
   "outputs": [],
   "source": [
    "data = pd.read_csv('train.csv')"
   ]
  },
  {
   "cell_type": "code",
   "execution_count": 4,
   "id": "9bb5349f-a1b1-4bce-8676-8ecdf475b8c0",
   "metadata": {},
   "outputs": [
    {
     "data": {
      "text/html": [
       "<div>\n",
       "<style scoped>\n",
       "    .dataframe tbody tr th:only-of-type {\n",
       "        vertical-align: middle;\n",
       "    }\n",
       "\n",
       "    .dataframe tbody tr th {\n",
       "        vertical-align: top;\n",
       "    }\n",
       "\n",
       "    .dataframe thead th {\n",
       "        text-align: right;\n",
       "    }\n",
       "</style>\n",
       "<table border=\"1\" class=\"dataframe\">\n",
       "  <thead>\n",
       "    <tr style=\"text-align: right;\">\n",
       "      <th></th>\n",
       "      <th>label</th>\n",
       "      <th>pixel0</th>\n",
       "      <th>pixel1</th>\n",
       "      <th>pixel2</th>\n",
       "      <th>pixel3</th>\n",
       "      <th>pixel4</th>\n",
       "      <th>pixel5</th>\n",
       "      <th>pixel6</th>\n",
       "      <th>pixel7</th>\n",
       "      <th>pixel8</th>\n",
       "      <th>...</th>\n",
       "      <th>pixel774</th>\n",
       "      <th>pixel775</th>\n",
       "      <th>pixel776</th>\n",
       "      <th>pixel777</th>\n",
       "      <th>pixel778</th>\n",
       "      <th>pixel779</th>\n",
       "      <th>pixel780</th>\n",
       "      <th>pixel781</th>\n",
       "      <th>pixel782</th>\n",
       "      <th>pixel783</th>\n",
       "    </tr>\n",
       "  </thead>\n",
       "  <tbody>\n",
       "    <tr>\n",
       "      <th>0</th>\n",
       "      <td>1</td>\n",
       "      <td>0</td>\n",
       "      <td>0</td>\n",
       "      <td>0</td>\n",
       "      <td>0</td>\n",
       "      <td>0</td>\n",
       "      <td>0</td>\n",
       "      <td>0</td>\n",
       "      <td>0</td>\n",
       "      <td>0</td>\n",
       "      <td>...</td>\n",
       "      <td>0</td>\n",
       "      <td>0</td>\n",
       "      <td>0</td>\n",
       "      <td>0</td>\n",
       "      <td>0</td>\n",
       "      <td>0</td>\n",
       "      <td>0</td>\n",
       "      <td>0</td>\n",
       "      <td>0</td>\n",
       "      <td>0</td>\n",
       "    </tr>\n",
       "    <tr>\n",
       "      <th>1</th>\n",
       "      <td>0</td>\n",
       "      <td>0</td>\n",
       "      <td>0</td>\n",
       "      <td>0</td>\n",
       "      <td>0</td>\n",
       "      <td>0</td>\n",
       "      <td>0</td>\n",
       "      <td>0</td>\n",
       "      <td>0</td>\n",
       "      <td>0</td>\n",
       "      <td>...</td>\n",
       "      <td>0</td>\n",
       "      <td>0</td>\n",
       "      <td>0</td>\n",
       "      <td>0</td>\n",
       "      <td>0</td>\n",
       "      <td>0</td>\n",
       "      <td>0</td>\n",
       "      <td>0</td>\n",
       "      <td>0</td>\n",
       "      <td>0</td>\n",
       "    </tr>\n",
       "    <tr>\n",
       "      <th>2</th>\n",
       "      <td>1</td>\n",
       "      <td>0</td>\n",
       "      <td>0</td>\n",
       "      <td>0</td>\n",
       "      <td>0</td>\n",
       "      <td>0</td>\n",
       "      <td>0</td>\n",
       "      <td>0</td>\n",
       "      <td>0</td>\n",
       "      <td>0</td>\n",
       "      <td>...</td>\n",
       "      <td>0</td>\n",
       "      <td>0</td>\n",
       "      <td>0</td>\n",
       "      <td>0</td>\n",
       "      <td>0</td>\n",
       "      <td>0</td>\n",
       "      <td>0</td>\n",
       "      <td>0</td>\n",
       "      <td>0</td>\n",
       "      <td>0</td>\n",
       "    </tr>\n",
       "    <tr>\n",
       "      <th>3</th>\n",
       "      <td>4</td>\n",
       "      <td>0</td>\n",
       "      <td>0</td>\n",
       "      <td>0</td>\n",
       "      <td>0</td>\n",
       "      <td>0</td>\n",
       "      <td>0</td>\n",
       "      <td>0</td>\n",
       "      <td>0</td>\n",
       "      <td>0</td>\n",
       "      <td>...</td>\n",
       "      <td>0</td>\n",
       "      <td>0</td>\n",
       "      <td>0</td>\n",
       "      <td>0</td>\n",
       "      <td>0</td>\n",
       "      <td>0</td>\n",
       "      <td>0</td>\n",
       "      <td>0</td>\n",
       "      <td>0</td>\n",
       "      <td>0</td>\n",
       "    </tr>\n",
       "    <tr>\n",
       "      <th>4</th>\n",
       "      <td>0</td>\n",
       "      <td>0</td>\n",
       "      <td>0</td>\n",
       "      <td>0</td>\n",
       "      <td>0</td>\n",
       "      <td>0</td>\n",
       "      <td>0</td>\n",
       "      <td>0</td>\n",
       "      <td>0</td>\n",
       "      <td>0</td>\n",
       "      <td>...</td>\n",
       "      <td>0</td>\n",
       "      <td>0</td>\n",
       "      <td>0</td>\n",
       "      <td>0</td>\n",
       "      <td>0</td>\n",
       "      <td>0</td>\n",
       "      <td>0</td>\n",
       "      <td>0</td>\n",
       "      <td>0</td>\n",
       "      <td>0</td>\n",
       "    </tr>\n",
       "  </tbody>\n",
       "</table>\n",
       "<p>5 rows × 785 columns</p>\n",
       "</div>"
      ],
      "text/plain": [
       "   label  pixel0  pixel1  pixel2  pixel3  pixel4  pixel5  pixel6  pixel7  \\\n",
       "0      1       0       0       0       0       0       0       0       0   \n",
       "1      0       0       0       0       0       0       0       0       0   \n",
       "2      1       0       0       0       0       0       0       0       0   \n",
       "3      4       0       0       0       0       0       0       0       0   \n",
       "4      0       0       0       0       0       0       0       0       0   \n",
       "\n",
       "   pixel8  ...  pixel774  pixel775  pixel776  pixel777  pixel778  pixel779  \\\n",
       "0       0  ...         0         0         0         0         0         0   \n",
       "1       0  ...         0         0         0         0         0         0   \n",
       "2       0  ...         0         0         0         0         0         0   \n",
       "3       0  ...         0         0         0         0         0         0   \n",
       "4       0  ...         0         0         0         0         0         0   \n",
       "\n",
       "   pixel780  pixel781  pixel782  pixel783  \n",
       "0         0         0         0         0  \n",
       "1         0         0         0         0  \n",
       "2         0         0         0         0  \n",
       "3         0         0         0         0  \n",
       "4         0         0         0         0  \n",
       "\n",
       "[5 rows x 785 columns]"
      ]
     },
     "execution_count": 4,
     "metadata": {},
     "output_type": "execute_result"
    }
   ],
   "source": [
    "data.head()"
   ]
  },
  {
   "cell_type": "code",
   "execution_count": 29,
   "id": "db285113-d3c4-45ca-96d1-a3027d079a06",
   "metadata": {},
   "outputs": [],
   "source": [
    "data = np.array(data)\n",
    "m , n = data.shape\n",
    "np.random.shuffle(data)\n",
    "data_dev = data[:1000].T #transposing the data so we access each columns and not rows\n",
    "Y_dev = data_dev[0]\n",
    "X_dev = data_dev[1:n]\n",
    "X_dev = X_dev / 255.\n",
    "\n",
    "data_train = data[1000:m].T\n",
    "Y_train = data_train[0]\n",
    "X_train = data_train[1:n]\n",
    "X_train = X_train / 255.\n",
    "_, m_train = X_train.shape"
   ]
  },
  {
   "cell_type": "code",
   "execution_count": 30,
   "id": "100ccdc9-f4b9-42cc-8ccc-598e4c4a43e9",
   "metadata": {},
   "outputs": [],
   "source": [
    "# W, b is weights and biases \n",
    "def init_params():\n",
    "    W1 = np.random.rand(10,784) - 0.5\n",
    "    b1 = np.random.rand(10, 1) - 0.5\n",
    "    W2 = np.random.rand(10,10) - 0.5\n",
    "    b2 = np.random.rand(10, 1) - 0.5\n",
    "    return W1, b1, W2, b2\n",
    "    \n",
    "def ReLU(Z):\n",
    "    '''\n",
    "    if z > 0, ReLU = z\n",
    "    if z <= 0 ReLU = 0\n",
    "    '''\n",
    "    return np.maximum(Z, 0)\n",
    "\n",
    "def softmax(Z):\n",
    "    '''\n",
    "    Preserves amount of column and collapses amount of rows to 1.\n",
    "    Returns sum of each column\n",
    "    '''\n",
    "    return np.exp(Z) / sum(np.exp(Z)) # basically returns the value of the neuron between 0-1 by dividing itself with the sum of all values in array\n",
    "    \n",
    "\n",
    "def forward(w1, b1, w2, b2, X):\n",
    "    Z1 = w1.dot(X) + b1 # creating activation function\n",
    "    A1 = ReLU(Z1) \n",
    "    Z2 = w2.dot(A1) + b2\n",
    "    A2 = softmax(Z2)\n",
    "    return Z1, A1, Z2, A2\n",
    "\n",
    "def one_hot(Y):\n",
    "    one_hot_Y = np.zeros((Y.size, Y.max() + 1))\n",
    "    one_hot_Y[np.arange(Y.size),Y] = 1 #for each row go to the column specified by label in y and set it to 1 \n",
    "    one_hot_Y = one_hot_Y.T\n",
    "    return one_hot_Y\n",
    "\n",
    "def derivative_relu(Z):\n",
    "    '''\n",
    "    the derivative of the relu function is always either 0 or 1.\n",
    "    When Z> 0 the derivative is of a linear function which is 0\n",
    "    When Z < 0 the derivative is 0 \n",
    "    '''\n",
    "    return Z > 0 #if Z > 0, returns 1 and if Z < 0 returns 0\n",
    "    \n",
    "def back_prop(Z1, A1, Z2, A2,W1, W2, X, Y):\n",
    "    m = Y.size\n",
    "    one_hot_Y = one_hot(Y)\n",
    "    dZ2 = A2 - one_hot_Y #derivative of Z2\n",
    "    dW2 = 1 / m * dZ2.dot(A1.T) # derivative of W2\n",
    "    db2 = 1 / m * np.sum(dZ2) # derivative of bias 2\n",
    "    dZ1 = W2.T.dot(dZ2) * derivative_relu(Z1)\n",
    "    dW1 = 1 / m * dZ1.dot(X.T)\n",
    "    db1 = 1 / m * np.sum(dZ1)\n",
    "    return dW1, db1, dW2, db2\n",
    "\n",
    "def update_params(W1, b1, W2, b2 , dW1, db1, dW2, db2, alpha):\n",
    "    W1 = W1 - alpha *dW1\n",
    "    b1 = b1 - alpha * db1\n",
    "    W2 = W2 - alpha *dW2\n",
    "    b2 = b2 - alpha * db2\n",
    "    return W1, b1, W2, b2\n",
    "    \n",
    "    "
   ]
  },
  {
   "cell_type": "code",
   "execution_count": 21,
   "id": "9c8936dd-b071-40fc-8ad7-68d0fd98dc03",
   "metadata": {},
   "outputs": [],
   "source": [
    "def get_prediction(A2):\n",
    "    return np.argmax(A2,0)\n",
    "def get_accuracy(predictions, Y):\n",
    "    return np.sum(predictions == Y) / Y.size"
   ]
  },
  {
   "cell_type": "code",
   "execution_count": 31,
   "id": "20a5cd6c-813e-4fc2-8751-0c31aed70ad8",
   "metadata": {},
   "outputs": [],
   "source": [
    "def gradient_descent(X,Y, iteration, alpha):\n",
    "    W1, b1, W2, b2 = init_params()\n",
    "    for i in range(iteration):\n",
    "        Z1 , A1, Z2, A2 = forward(W1, b1, W2, b2, X)\n",
    "        dW1 , db1, dW2, db2 = back_prop(Z1, A1, Z2, A2, W1, W2, X, Y)\n",
    "        W1, b1, W2, b2 = update_params(W1, b1, W2, b2 , dW1, db1, dW2, db2, alpha)\n",
    "        if i % 50 == 0:\n",
    "            print(\"Iteration: \" , i)\n",
    "            print(\"Accuracy: \" ,get_accuracy(get_prediction(A2), Y))\n",
    "    return W1, b1, W2, b2"
   ]
  },
  {
   "cell_type": "code",
   "execution_count": 32,
   "id": "0a742380-7fba-46b1-8d70-2eb0a7c96e92",
   "metadata": {},
   "outputs": [
    {
     "name": "stdout",
     "output_type": "stream",
     "text": [
      "Iteration:  0\n",
      "Accuracy:  0.08258536585365854\n",
      "Iteration:  50\n",
      "Accuracy:  0.26995121951219514\n",
      "Iteration:  100\n",
      "Accuracy:  0.5298780487804878\n",
      "Iteration:  150\n",
      "Accuracy:  0.6843414634146342\n",
      "Iteration:  200\n",
      "Accuracy:  0.7389024390243902\n",
      "Iteration:  250\n",
      "Accuracy:  0.7702682926829268\n",
      "Iteration:  300\n",
      "Accuracy:  0.7922439024390244\n",
      "Iteration:  350\n",
      "Accuracy:  0.8072926829268293\n",
      "Iteration:  400\n",
      "Accuracy:  0.8199512195121951\n",
      "Iteration:  450\n",
      "Accuracy:  0.8286829268292683\n",
      "Iteration:  500\n",
      "Accuracy:  0.8354634146341463\n",
      "Iteration:  550\n",
      "Accuracy:  0.8412439024390244\n",
      "Iteration:  600\n",
      "Accuracy:  0.8464146341463414\n",
      "Iteration:  650\n",
      "Accuracy:  0.8511951219512195\n",
      "Iteration:  700\n",
      "Accuracy:  0.8546585365853658\n",
      "Iteration:  750\n",
      "Accuracy:  0.857390243902439\n",
      "Iteration:  800\n",
      "Accuracy:  0.8607317073170732\n",
      "Iteration:  850\n",
      "Accuracy:  0.8631951219512195\n",
      "Iteration:  900\n",
      "Accuracy:  0.8655853658536585\n",
      "Iteration:  950\n",
      "Accuracy:  0.8673414634146341\n",
      "Iteration:  1000\n",
      "Accuracy:  0.8692926829268293\n",
      "Iteration:  1050\n",
      "Accuracy:  0.8708780487804878\n",
      "Iteration:  1100\n",
      "Accuracy:  0.8723170731707317\n",
      "Iteration:  1150\n",
      "Accuracy:  0.8735853658536585\n",
      "Iteration:  1200\n",
      "Accuracy:  0.8749756097560976\n",
      "Iteration:  1250\n",
      "Accuracy:  0.8761951219512195\n",
      "Iteration:  1300\n",
      "Accuracy:  0.8774146341463415\n",
      "Iteration:  1350\n",
      "Accuracy:  0.8786829268292683\n",
      "Iteration:  1400\n",
      "Accuracy:  0.8800487804878049\n",
      "Iteration:  1450\n",
      "Accuracy:  0.8809024390243902\n",
      "Iteration:  1500\n",
      "Accuracy:  0.882390243902439\n",
      "Iteration:  1550\n",
      "Accuracy:  0.8834634146341463\n",
      "Iteration:  1600\n",
      "Accuracy:  0.8843658536585366\n",
      "Iteration:  1650\n",
      "Accuracy:  0.8852439024390244\n",
      "Iteration:  1700\n",
      "Accuracy:  0.8861219512195122\n",
      "Iteration:  1750\n",
      "Accuracy:  0.8868292682926829\n",
      "Iteration:  1800\n",
      "Accuracy:  0.8877804878048781\n",
      "Iteration:  1850\n",
      "Accuracy:  0.8888780487804878\n",
      "Iteration:  1900\n",
      "Accuracy:  0.8892926829268293\n",
      "Iteration:  1950\n",
      "Accuracy:  0.8903170731707317\n"
     ]
    }
   ],
   "source": [
    "W1, b1, W2, b2 = gradient_descent(X_train, Y_train, 2000, 0.1)"
   ]
  },
  {
   "cell_type": "code",
   "execution_count": 33,
   "id": "ce45b36c-5a24-4c93-bedb-9ab8ecd57940",
   "metadata": {},
   "outputs": [],
   "source": [
    "def make_prediction(X,W1 , b1, W2, b2):\n",
    "    _, _, _, A2 = forward(W1, b1, W2, b2, X)\n",
    "    prediction = get_prediction(A2)\n",
    "    return prediction\n",
    "\n",
    "def test_prediction(index, W1, b1, W2, b2):\n",
    "    current_image = X_train[:,index, None]\n",
    "    prediction = make_prediction(X_train[:,index, None], W1, b1, W2, b2)\n",
    "    label = Y_train[index]\n",
    "    print(\"Prediction: \", prediction)\n",
    "    print(\"Label: \" , label)\n",
    "\n",
    "    current_image = current_image.reshape((28,28))*255\n",
    "    plt.gray()\n",
    "    plt.imshow(current_image, interpolation='nearest')\n",
    "    plt.show()"
   ]
  },
  {
   "cell_type": "code",
   "execution_count": 35,
   "id": "b4229898-d090-463b-a4d4-ac2bad562083",
   "metadata": {},
   "outputs": [
    {
     "name": "stdout",
     "output_type": "stream",
     "text": [
      "Prediction:  [1]\n",
      "Label:  1\n"
     ]
    },
    {
     "data": {
      "image/png": "[encoded data removed]",
      "text/plain": [
       "<Figure size 640x480 with 1 Axes>"
      ]
     },
     "metadata": {},
     "output_type": "display_data"
    },
    {
     "name": "stdout",
     "output_type": "stream",
     "text": [
      "Prediction:  [1]\n",
      "Label:  1\n"
     ]
    },
    {
     "data": {
      "image/png": "[encoded data removed]",
      "text/plain": [
       "<Figure size 640x480 with 1 Axes>"
      ]
     },
     "metadata": {},
     "output_type": "display_data"
    },
    {
     "name": "stdout",
     "output_type": "stream",
     "text": [
      "Prediction:  [9]\n",
      "Label:  9\n"
     ]
    },
    {
     "data": {
      "image/png": "[encoded data removed]",
      "text/plain": [
       "<Figure size 640x480 with 1 Axes>"
      ]
     },
     "metadata": {},
     "output_type": "display_data"
    },
    {
     "name": "stdout",
     "output_type": "stream",
     "text": [
      "Prediction:  [1]\n",
      "Label:  1\n"
     ]
    },
    {
     "data": {
      "image/png": "[encoded data removed]",
      "text/plain": [
       "<Figure size 640x480 with 1 Axes>"
      ]
     },
     "metadata": {},
     "output_type": "display_data"
    }
   ],
   "source": [
    "test_prediction(0, W1, b1, W2, b2)\n",
    "test_prediction(1, W1, b1, W2, b2)\n",
    "test_prediction(2, W1, b1, W2, b2)\n",
    "test_prediction(3, W1, b1, W2, b2)"
   ]
  },
  {
   "cell_type": "code",
   "execution_count": 36,
   "id": "99477ace-7f3a-4ca5-87f0-501b7c0b1c85",
   "metadata": {},
   "outputs": [
    {
     "name": "stdout",
     "output_type": "stream",
     "text": [
      "Prediction:  [4]\n",
      "Label:  4\n"
     ]
    },
    {
     "data": {
      "image/png": "[encoded data removed]",
      "text/plain": [
       "<Figure size 640x480 with 1 Axes>"
      ]
     },
     "metadata": {},
     "output_type": "display_data"
    }
   ],
   "source": [
    "test_prediction(10, W1, b1, W2, b2)"
   ]
  },
  {
   "cell_type": "code",
   "execution_count": 37,
   "id": "4553833b-c532-4098-af78-915e65892bc7",
   "metadata": {},
   "outputs": [
    {
     "name": "stdout",
     "output_type": "stream",
     "text": [
      "Prediction:  [7]\n",
      "Label:  7\n"
     ]
    },
    {
     "data": {
      "image/png": "[encoded data removed]",
      "text/plain": [
       "<Figure size 640x480 with 1 Axes>"
      ]
     },
     "metadata": {},
     "output_type": "display_data"
    }
   ],
   "source": [
    "test_prediction(21, W1, b1, W2, b2)"
   ]
  },
  {
   "cell_type": "code",
   "execution_count": null,
   "id": "7ea61593-dff3-411d-9f26-bb9eb1467a60",
   "metadata": {},
   "outputs": [],
   "source": []
  }
 ],
 "metadata": {
  "kernelspec": {
   "display_name": "Python 3 (ipykernel)",
   "language": "python",
   "name": "python3"
  },
  "language_info": {
   "codemirror_mode": {
    "name": "ipython",
    "version": 3
   },
   "file_extension": ".py",
   "mimetype": "text/x-python",
   "name": "python",
   "nbconvert_exporter": "python",
   "pygments_lexer": "ipython3",
   "version": "3.12.4"
  }
 },
 "nbformat": 4,
 "nbformat_minor": 5
}
